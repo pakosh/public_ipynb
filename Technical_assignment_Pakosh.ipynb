{
 "cells": [
  {
   "cell_type": "markdown",
   "metadata": {},
   "source": [
    "# 1. Introduction"
   ]
  },
  {
   "cell_type": "markdown",
   "metadata": {},
   "source": [
    "## Guidelines\n",
    "Please complete the assignment inside this notebook. Make sure the code can be executed easily.\n",
    "\n",
    "- Write production-ready code.\n",
    "- Create unit tests for your code where applicable.\n",
    "- Add comments and documentation strings for all methods. Also discuss your design choices.\n",
    "- Discuss the complexity (Big O notation) of your solutions, both memory wise and performance wise.\n",
    "- Try to stick to the most popular scientific Python libraries."
   ]
  },
  {
   "cell_type": "markdown",
   "metadata": {},
   "source": [
    "## Input data\n",
    "You should have received three csv files. Each csv-file represents the locations where a person was stationary for a certain amount of time. \n",
    "The csv-files contain the following fields:\n",
    "\n",
    "- Latitude: The latitude of the detected GPS coordinates Longitude: The longitude of the detected GPS coordinates\n",
    "- Timestamp: The start time of the stationary in the following format:\n",
    "    - YYYY = year\n",
    "    - MM = month of year\n",
    "    - dd = day of month\n",
    "    - HH=hourofday\n",
    "    - mm = minute of hour\n",
    "    - Z = timezone offset\n",
    "- Duration: The length of time the person was stationary (in milliseconds)\n",
    "    \n",
    "All questions in this assignment are related to this data."
   ]
  },
  {
   "cell_type": "code",
   "execution_count": 1,
   "metadata": {
    "collapsed": true
   },
   "outputs": [],
   "source": [
    "# import statements go here.\n",
    "%matplotlib inline\n",
    "import pandas as pd\n",
    "import numpy as np"
   ]
  },
  {
   "cell_type": "markdown",
   "metadata": {},
   "source": [
    "# 2. Programming skills"
   ]
  },
  {
   "cell_type": "markdown",
   "metadata": {},
   "source": [
    "## Question 1: Data parsing\n",
    "- Create the code needed to read and parse the data.\n",
    "- Print out some summary statistics of the data\n",
    "    - e.g. Average number of places visited per day\n",
    "    - e.g. Median distance traveled between two subsequent stationary locations\n",
    "    - ..."
   ]
  },
  {
   "cell_type": "code",
   "execution_count": 2,
   "metadata": {},
   "outputs": [],
   "source": [
    "# parse data\n",
    "person_converters = {'start_time(YYYYMMddHHmmZ)':pd.to_datetime}\n",
    "person1 = pd.read_csv('person.1.csv', delimiter=';', converters=person_converters)\n",
    "person2 = pd.read_csv('person.2.csv', delimiter=';', converters=person_converters)\n",
    "person3 = pd.read_csv('person.3.csv', delimiter=';', converters=person_converters)\n",
    "\n",
    "persons = person1.append([person2, person3])"
   ]
  },
  {
   "cell_type": "markdown",
   "metadata": {},
   "source": [
    "## Count unique values in each column"
   ]
  },
  {
   "cell_type": "code",
   "execution_count": 3,
   "metadata": {},
   "outputs": [
    {
     "data": {
      "text/html": [
       "<div>\n",
       "<style scoped>\n",
       "    .dataframe tbody tr th:only-of-type {\n",
       "        vertical-align: middle;\n",
       "    }\n",
       "\n",
       "    .dataframe tbody tr th {\n",
       "        vertical-align: top;\n",
       "    }\n",
       "\n",
       "    .dataframe thead th {\n",
       "        text-align: right;\n",
       "    }\n",
       "</style>\n",
       "<table border=\"1\" class=\"dataframe\">\n",
       "  <thead>\n",
       "    <tr style=\"text-align: right;\">\n",
       "      <th></th>\n",
       "      <th>latitude</th>\n",
       "      <th>longitude</th>\n",
       "      <th>start_time(YYYYMMddHHmmZ)</th>\n",
       "      <th>duration(ms)</th>\n",
       "    </tr>\n",
       "    <tr>\n",
       "      <th>person</th>\n",
       "      <th></th>\n",
       "      <th></th>\n",
       "      <th></th>\n",
       "      <th></th>\n",
       "    </tr>\n",
       "  </thead>\n",
       "  <tbody>\n",
       "    <tr>\n",
       "      <th>0</th>\n",
       "      <td>446</td>\n",
       "      <td>507</td>\n",
       "      <td>549</td>\n",
       "      <td>549</td>\n",
       "    </tr>\n",
       "    <tr>\n",
       "      <th>1</th>\n",
       "      <td>544</td>\n",
       "      <td>698</td>\n",
       "      <td>763</td>\n",
       "      <td>760</td>\n",
       "    </tr>\n",
       "    <tr>\n",
       "      <th>2</th>\n",
       "      <td>259</td>\n",
       "      <td>322</td>\n",
       "      <td>357</td>\n",
       "      <td>357</td>\n",
       "    </tr>\n",
       "  </tbody>\n",
       "</table>\n",
       "</div>"
      ],
      "text/plain": [
       "        latitude  longitude  start_time(YYYYMMddHHmmZ)  duration(ms)\n",
       "person                                                              \n",
       "0            446        507                        549           549\n",
       "1            544        698                        763           760\n",
       "2            259        322                        357           357"
      ]
     },
     "execution_count": 3,
     "metadata": {},
     "output_type": "execute_result"
    }
   ],
   "source": [
    "# count unique values in each column\n",
    "def count_uniq(col):\n",
    "    return len(col.unique())\n",
    "\n",
    "\n",
    "\n",
    "person1_uniq_cnt = person1.apply(count_uniq, axis=0)\n",
    "person2_uniq_cnt = person2.apply(count_uniq, axis=0)\n",
    "person3_uniq_cnt = person3.apply(count_uniq, axis=0)\n",
    "\n",
    "unique_stat = pd.DataFrame([person1_uniq_cnt,person2_uniq_cnt,person3_uniq_cnt])\n",
    "unique_stat.index.name = 'person'\n",
    "unique_stat"
   ]
  },
  {
   "cell_type": "markdown",
   "metadata": {},
   "source": [
    "## Average number of places visited per day"
   ]
  },
  {
   "cell_type": "code",
   "execution_count": 4,
   "metadata": {
    "collapsed": true
   },
   "outputs": [],
   "source": [
    "def get_places_per_day_stat(person):\n",
    "    places_per_day_person = person.groupby([person['start_time(YYYYMMddHHmmZ)'].dt.date])['latitude'].count()\n",
    "    return places_per_day_person.describe()"
   ]
  },
  {
   "cell_type": "code",
   "execution_count": 5,
   "metadata": {
    "collapsed": true
   },
   "outputs": [],
   "source": [
    "table = pd.DataFrame({'person1': get_places_per_day_stat( person1 ), \n",
    "              'person2': get_places_per_day_stat( person2 ), \n",
    "              'person3': get_places_per_day_stat( person3 ),\n",
    "              'allpersons': get_places_per_day_stat( persons )\n",
    "             })"
   ]
  },
  {
   "cell_type": "code",
   "execution_count": 6,
   "metadata": {},
   "outputs": [
    {
     "name": "stdout",
     "output_type": "stream",
     "text": [
      "       allpersons    person1    person2    person3\n",
      "count   90.000000  79.000000  90.000000  55.000000\n",
      "mean    18.544444   6.949367   8.477778   6.490909\n",
      "std     11.068897   5.396815   6.526055   3.905707\n",
      "min      1.000000   1.000000   1.000000   1.000000\n",
      "25%     12.250000   4.000000   5.000000   4.000000\n",
      "50%     17.500000   5.000000   7.000000   6.000000\n",
      "75%     23.000000   8.000000  10.000000   8.000000\n",
      "max     78.000000  28.000000  45.000000  16.000000\n"
     ]
    },
    {
     "data": {
      "text/plain": [
       "<matplotlib.axes._subplots.AxesSubplot at 0x96abf60>"
      ]
     },
     "execution_count": 6,
     "metadata": {},
     "output_type": "execute_result"
    },
    {
     "data": {
      "image/png": "[encoded data removed]",
      "text/plain": [
       "<Figure size 432x288 with 1 Axes>"
      ]
     },
     "metadata": {},
     "output_type": "display_data"
    }
   ],
   "source": [
    "print(table)\n",
    "table.plot(kind='bar')"
   ]
  },
  {
   "cell_type": "markdown",
   "metadata": {},
   "source": [
    "## Median distance traveled between two subsequent stationary locations"
   ]
  },
  {
   "cell_type": "code",
   "execution_count": 7,
   "metadata": {
    "collapsed": true
   },
   "outputs": [],
   "source": [
    "# function to calculate distance\n",
    "def haversine_np(lon1, lat1, lon2, lat2):\n",
    "    \"\"\"\n",
    "    Calculate the great circle distance between two points\n",
    "    on the earth (specified in decimal degrees)\n",
    "\n",
    "    All args must be of equal length.    \n",
    "\n",
    "    \"\"\"\n",
    "    lon1, lat1, lon2, lat2 = map(np.radians, [lon1, lat1, lon2, lat2])\n",
    "\n",
    "    dlon = lon2 - lon1\n",
    "    dlat = lat2 - lat1\n",
    "\n",
    "    a = np.sin(dlat/2.0)**2 + np.cos(lat1) * np.cos(lat2) * np.sin(dlon/2.0)**2\n",
    "\n",
    "    c = 2 * np.arcsin(np.sqrt(a))\n",
    "    km = 6367 * c\n",
    "    return km"
   ]
  },
  {
   "cell_type": "code",
   "execution_count": 8,
   "metadata": {
    "collapsed": true
   },
   "outputs": [],
   "source": [
    "def dist_calc(person):\n",
    "    dist = haversine_np(lon1=person1.longitude.shift(), \n",
    "                               lat1=person1.latitude.shift(),\n",
    "                               lon2=person1.loc[1:, 'longitude'], \n",
    "                               lat2=person1.loc[1:, 'latitude'])\n",
    "    return dist"
   ]
  },
  {
   "cell_type": "code",
   "execution_count": 9,
   "metadata": {
    "collapsed": true
   },
   "outputs": [],
   "source": [
    "# calculate distances\n",
    "person1['dist'] = dist_calc(person1)\n",
    "person2['dist'] = dist_calc(person2)\n",
    "person3['dist'] = dist_calc(person3)"
   ]
  },
  {
   "cell_type": "code",
   "execution_count": 10,
   "metadata": {
    "collapsed": true
   },
   "outputs": [],
   "source": [
    "persons = person1.append([person2, person3])"
   ]
  },
  {
   "cell_type": "code",
   "execution_count": 11,
   "metadata": {},
   "outputs": [
    {
     "name": "stdout",
     "output_type": "stream",
     "text": [
      "#median distance between 2 locations in km\n"
     ]
    },
    {
     "data": {
      "text/plain": [
       "{'all': 0.4752775147798534,\n",
       " 'person1': 0.46483387710696955,\n",
       " 'person2': 0.46483387710696955,\n",
       " 'person3': 0.5069125481987093}"
      ]
     },
     "execution_count": 11,
     "metadata": {},
     "output_type": "execute_result"
    }
   ],
   "source": [
    "# calc median distance between 2 locations\n",
    "median_distance_between_2_locations = {'all': persons.dist.median(), \n",
    " 'person1': person1.dist.median(), \n",
    " 'person2': person2.dist.median(), \n",
    " 'person3': person3.dist.median()\n",
    " }\n",
    "\n",
    "print('#median distance between 2 locations in km')\n",
    "median_distance_between_2_locations"
   ]
  },
  {
   "cell_type": "markdown",
   "metadata": {},
   "source": [
    "## Question 2: Data lookup\n",
    "Create a method that generates a lookup table allowing us to effiently check whether or not a user has ever visited a location even if the new location is not exactly the same as the visited location (some noise is added to the longitude/latitude pairs)."
   ]
  },
  {
   "cell_type": "code",
   "execution_count": 12,
   "metadata": {},
   "outputs": [],
   "source": [
    "from sklearn.neighbors import KDTree\n",
    "import numpy as np\n",
    "import logging"
   ]
  },
  {
   "cell_type": "code",
   "execution_count": 13,
   "metadata": {
    "collapsed": true
   },
   "outputs": [],
   "source": [
    "# use KD"
   ]
  },
  {
   "cell_type": "code",
   "execution_count": 14,
   "metadata": {},
   "outputs": [],
   "source": [
    "class LookupTable:\n",
    "    \n",
    "    def __init__(self, persons):\n",
    "        \"\"\"\n",
    "        Build lookupTable for each person\n",
    "\n",
    "        \"\"\"\n",
    "        self.trees = {}\n",
    "        location_field = ['latitude','longitude']\n",
    "        for i, person in enumerate(persons):\n",
    "            self.trees[i] = KDTree(person[location_field], leaf_size=2)\n",
    "            \n",
    "    def location_lookup(self, location, person_index, visited_loc=False, noise_distance_err = 0.1):\n",
    "        \n",
    "        \"\"\"\n",
    "        Check whether or not a user has ever visited a location \n",
    "        even if the new location is not exactly the same as the visited location \n",
    "        (some noise is added to the longitude/latitude pairs)\n",
    "        \n",
    "        location: [[latitude, lnongitude]] | the location to check\n",
    "        person_index: int | index of person to check the visited location\n",
    "        noise_distance_err: float | err of distance in km\n",
    "        \n",
    "        return \n",
    "            was_visited: Bool | location was ever visited or not\n",
    "            visited_loc: [lat, lon] | visited location\n",
    "            \n",
    "            if visited_loc is False\n",
    "                was_visited: Bool | location was ever visited or not\n",
    "            else\n",
    "                (was_visited, visited_loc)\n",
    "        \n",
    "        \"\"\"\n",
    "        ind = self.trees[person_index].query([location], k=1, return_distance=False)\n",
    "        nearest_point = self.trees[person_index].get_arrays()[0][ind][0]\n",
    "        \n",
    "        distance = haversine_np(location[1], location[0], nearest_point[0][1], nearest_point[0][0])\n",
    "        \n",
    "        was_visited = distance <= noise_distance_err \n",
    "\n",
    "        return (was_visited, nearest_point) if visited_loc else was_visited"
   ]
  },
  {
   "cell_type": "markdown",
   "metadata": {},
   "source": [
    "## do lookup"
   ]
  },
  {
   "cell_type": "code",
   "execution_count": 15,
   "metadata": {},
   "outputs": [],
   "source": [
    "lookup_table = LookupTable([person1, person2, person3])"
   ]
  },
  {
   "cell_type": "code",
   "execution_count": 16,
   "metadata": {
    "collapsed": true
   },
   "outputs": [],
   "source": [
    "from random import random\n",
    "location_field = ['latitude','longitude']"
   ]
  },
  {
   "cell_type": "code",
   "execution_count": 17,
   "metadata": {},
   "outputs": [
    {
     "data": {
      "text/plain": [
       "array([-49.326958000000005, -72.89073], dtype=object)"
      ]
     },
     "execution_count": 17,
     "metadata": {},
     "output_type": "execute_result"
    }
   ],
   "source": [
    "person1.loc[0,location_field].values"
   ]
  },
  {
   "cell_type": "code",
   "execution_count": 18,
   "metadata": {},
   "outputs": [],
   "source": [
    "noise_lat = random() * 10 // 1 / 10  * 0.001\n",
    "noise_lon = random() * 10 // 1 / 10  * 0.001\n",
    "\n",
    "noise_lat, noise_lon\n",
    "\n",
    "lookup_persons = person1.loc[0,location_field].values * 1000000 // 1 / 1000000\n",
    "lookup_persons_noised = lookup_persons + [noise_lat, noise_lon]\n",
    "lookup_persons_custom = lookup_persons + [1.0,0.0]"
   ]
  },
  {
   "cell_type": "code",
   "execution_count": 19,
   "metadata": {},
   "outputs": [
    {
     "data": {
      "text/plain": [
       "array([-49.326959, -72.89073, None, None], dtype=object)"
      ]
     },
     "execution_count": 19,
     "metadata": {},
     "output_type": "execute_result"
    }
   ],
   "source": [
    "np.append( lookup_persons, [None, None] )"
   ]
  },
  {
   "cell_type": "code",
   "execution_count": 20,
   "metadata": {},
   "outputs": [
    {
     "name": "stdout",
     "output_type": "stream",
     "text": [
      "check location person1\n",
      "check location 0:  [-49.326959 -72.89073]\n",
      "person1:  True\n",
      "person2:  False\n",
      "person3:  False\n",
      "check location noised 0:  [-49.326459 -72.88993]\n",
      "person1:  True\n",
      "person2:  False\n",
      "person3:  False\n",
      "check location custom 0:  [-48.326959 -72.89073]\n",
      "person1:  False\n",
      "person2:  False\n",
      "person3:  False\n"
     ]
    }
   ],
   "source": [
    "# check location 0 from person1\n",
    "print('check location person1')\n",
    "print('check location 0: ', lookup_persons)\n",
    "print('person1: ', lookup_table.location_lookup(lookup_persons, person_index=0) )\n",
    "print('person2: ', lookup_table.location_lookup(lookup_persons, person_index=1) )\n",
    "print('person3: ', lookup_table.location_lookup(lookup_persons, person_index=2) )\n",
    "\n",
    "# check location 0 noised from person1\n",
    "print('check location noised 0: ', lookup_persons_noised)\n",
    "print('person1: ', lookup_table.location_lookup(lookup_persons_noised, person_index=0) )\n",
    "print('person2: ', lookup_table.location_lookup(lookup_persons_noised, person_index=1) )\n",
    "print('person3: ', lookup_table.location_lookup(lookup_persons_noised, person_index=2) )\n",
    "\n",
    "# check location 0 custom from person1\n",
    "print('check location custom 0: ', lookup_persons_custom)\n",
    "print('person1: ', lookup_table.location_lookup(lookup_persons_custom, person_index=0) )\n",
    "print('person2: ', lookup_table.location_lookup(lookup_persons_custom, person_index=1) )\n",
    "print('person3: ', lookup_table.location_lookup(lookup_persons_custom, person_index=2) )"
   ]
  },
  {
   "cell_type": "markdown",
   "metadata": {},
   "source": [
    "# 3. Machine learning skills"
   ]
  },
  {
   "cell_type": "markdown",
   "metadata": {},
   "source": [
    "## Question 1: Home and work detection\n",
    "The goal of this question, is to design an algorithm that allows us to distinguish the likely home locations of a user from his likely work locations.\n",
    "\n",
    "Note that a person might have multiple home and work locations, or might not have a work location at all. Also note that the data might be noise, incorrect and/or incomplete.\n",
    "\n",
    "Discuss your choice of algorithms, rules, methods, distance measures, etc."
   ]
  },
  {
   "cell_type": "code",
   "execution_count": 21,
   "metadata": {
    "collapsed": true
   },
   "outputs": [],
   "source": [
    "from sklearn.cluster import DBSCAN\n",
    "\n",
    "import numpy as np\n",
    "import matplotlib.pyplot as plt\n",
    "\n",
    "from sklearn.preprocessing import StandardScaler\n",
    "from itertools import cycle, islice\n",
    "from itertools import chain\n",
    "\n",
    "from sklearn import metrics\n",
    "\n",
    "np.random.seed(0)"
   ]
  },
  {
   "cell_type": "code",
   "execution_count": 22,
   "metadata": {
    "collapsed": true
   },
   "outputs": [],
   "source": [
    "def extract_cluster_location_by_label(cluster_labels, labels, points, core_samples_mask ):\n",
    "\n",
    "    locations = []\n",
    "    \n",
    "    print( cluster_labels )\n",
    "    \n",
    "    for _label in cluster_labels:\n",
    "        \n",
    "        class_member_mask = (labels == _label)\n",
    "        xy = points[class_member_mask & core_samples_mask]\n",
    "        \n",
    "        locations.append( np.median( xy, axis=0 ) )\n",
    "    \n",
    "    return locations"
   ]
  },
  {
   "cell_type": "code",
   "execution_count": 23,
   "metadata": {
    "collapsed": true
   },
   "outputs": [],
   "source": [
    "# get person data and scan it for home|work locations\n",
    "\n",
    "def dbscan_analize(pldata, eps=1.5, min_samples=10):\n",
    "    \n",
    "#     scaler = StandardScaler()\n",
    "    \n",
    "#     X = scaler.fit_transform(pldata[location_field].values)\n",
    "    X = pldata[location_field].values\n",
    "    \n",
    "    kms_per_radian = 6371.0088\n",
    "    epsilon = 0.05/kms_per_radian\n",
    "    db = DBSCAN(eps=epsilon, min_samples=min_samples, algorithm='ball_tree', metric='haversine').fit(np.radians(X))\n",
    "    cluster_labels = db.labels_\n",
    "\n",
    "    core_samples_mask = np.zeros_like(db.labels_, dtype=bool)\n",
    "    core_samples_mask[db.core_sample_indices_] = True\n",
    "    labels = db.labels_\n",
    "\n",
    "    labels_true = labels\n",
    "\n",
    "    # Number of clusters in labels, ignoring noise if present.\n",
    "    n_clusters_ = len(set(labels)) - (1 if -1 in labels else 0)\n",
    "\n",
    "    # Black removed and is used for noise instead.\n",
    "    unique_labels = set(labels)\n",
    "    colors = [plt.cm.Spectral(each)\n",
    "              for each in np.linspace(0, 1, len(unique_labels))]\n",
    "\n",
    "    pldata['labels'] = labels\n",
    "    \n",
    "    # Calc how much time person was in point\n",
    "    point_hours = pldata.groupby(['labels', person2['start_time(YYYYMMddHHmmZ)'].dt.hour])['duration(ms)'].sum()/1000\n",
    "\n",
    "    # plot time graphs\n",
    "    plot_cols = 3\n",
    "    plot_rows = np.ceil(len(unique_labels)/plot_cols)\n",
    "    \n",
    "    plt.figure(figsize = (15,5))\n",
    "    \n",
    "    # extract home work positions\n",
    "    home_possible = (-1, 0)\n",
    "    work_possible = []\n",
    "    for i, k in enumerate(unique_labels):\n",
    "        plt.subplot(plot_rows, plot_cols, i+1)\n",
    "        \n",
    "        nduration = point_hours[k]/np.sum(point_hours[k])\n",
    "        \n",
    "        if k != -1:\n",
    "            home_prop = nduration.loc[:6].sum()\n",
    "            work_prop = nduration.loc[10:16].sum()\n",
    "            work_possible.append( (k, work_prop ) )\n",
    "            \n",
    "            if home_possible[1] < home_prop:\n",
    "                home_possible = (k, home_prop )\n",
    "\n",
    "        plt.plot( nduration )\n",
    "        plt.title('point: %s, %s' % (k,i+1))\n",
    "    plt.show()\n",
    "    \n",
    "    \n",
    "    \n",
    "    work_possible = pd.DataFrame(work_possible)\n",
    "    work_possible = work_possible[ work_possible[1] >= 0.2 ]\n",
    "    work_possible.sort_values([1], ascending=False)\n",
    "    \n",
    "    if home_possible[0] in work_possible.loc[:,0].values:\n",
    "        home_possible = None\n",
    "        \n",
    "    work_possible_locations = extract_cluster_location_by_label(cluster_labels=work_possible.loc[:,0].values,\n",
    "                                      labels=labels, \n",
    "                                      points=X, \n",
    "                                      core_samples_mask=core_samples_mask )\n",
    "        \n",
    "    print( 'work_possible cluster num: ', work_possible.loc[:,0].values )\n",
    "#     print( 'work_possible locations: ', work_possible_locations, scaler.inverse_transform(work_possible_locations) )\n",
    "    print( 'work_possible locations: ', work_possible_locations, work_possible_locations) \n",
    "    \n",
    "    home_possible_locations = extract_cluster_location_by_label(cluster_labels=[(home_possible[0] if home_possible else 'None')],\n",
    "                                      labels=labels, \n",
    "                                      points=X, \n",
    "                                      core_samples_mask=core_samples_mask )\n",
    "    \n",
    "    print('home_possible cluster num: %s' % (home_possible[0] if home_possible else 'None'))\n",
    "#     print('home_possible locations: ', home_possible_locations, scaler.inverse_transform( home_possible_locations ) )\n",
    "    print('home_possible locations: ', home_possible_locations, home_possible_locations  )\n",
    "\n",
    "    for k, col in zip(unique_labels, colors):\n",
    "        if k == -1:        \n",
    "            # Black used for noise.\n",
    "            col = [0, 0, 0, 1]\n",
    "\n",
    "\n",
    "        class_member_mask = (labels == k)\n",
    "\n",
    "        xy = X[class_member_mask & core_samples_mask]\n",
    "\n",
    "        if xy.shape[0]:\n",
    "            plt.annotate('%s' % (k), xy=xy[0], size=50)\n",
    "\n",
    "\n",
    "        plt.plot(xy[:, 0], xy[:, 1], 'o', markerfacecolor=tuple(col),\n",
    "                 markeredgecolor='k', markersize=24)\n",
    "\n",
    "        xy = X[class_member_mask & ~core_samples_mask]\n",
    "        plt.plot(xy[:, 0], xy[:, 1], 'o', markerfacecolor=tuple(col),\n",
    "                 markeredgecolor='k', markersize=6)\n",
    "        \n",
    "        \n",
    "\n",
    "    plt.title('Estimated number of clusters: %d' % n_clusters_)\n",
    "    plt.show()\n",
    "    home_possible = home_possible[0] if home_possible else None\n",
    "    silhouette = metrics.silhouette_score(X, labels)\n",
    "    return silhouette, \\\n",
    "              n_clusters_, \\\n",
    "            (home_possible, home_possible_locations ), \\\n",
    "            (work_possible.loc[:,0].values, work_possible_locations )\n",
    "    #         (home_possible, scaler.inverse_transform(home_possible_locations)), \\\n",
    "    #         (work_possible.loc[:,0].values, scaler.inverse_transform( work_possible_locations ) )"
   ]
  },
  {
   "cell_type": "code",
   "execution_count": 24,
   "metadata": {},
   "outputs": [],
   "source": [
    "# get person data and scan it for home|work locations\n",
    "\n",
    "def dbscan_analize(pldata, eps=0.1, min_samples=10):\n",
    "    scaler = StandardScaler()\n",
    "    \n",
    "    X = scaler.fit_transform(pldata[location_field].values)\n",
    "\n",
    "    # Compute DBSCAN\n",
    "    db = DBSCAN(eps=eps, min_samples=min_samples).fit(X)\n",
    "    core_samples_mask = np.zeros_like(db.labels_, dtype=bool)\n",
    "    core_samples_mask[db.core_sample_indices_] = True\n",
    "    labels = db.labels_\n",
    "\n",
    "    labels_true = labels\n",
    "\n",
    "    # Number of clusters in labels, ignoring noise if present.\n",
    "    n_clusters_ = len(set(labels)) - (1 if -1 in labels else 0)\n",
    "\n",
    "    # Black removed and is used for noise instead.\n",
    "    unique_labels = set(labels)\n",
    "    colors = [plt.cm.Spectral(each)\n",
    "              for each in np.linspace(0, 1, len(unique_labels))]\n",
    "\n",
    "    pldata['labels'] = labels\n",
    "    \n",
    "    # Calc how much time person was in point\n",
    "    point_hours = pldata.groupby(['labels', person2['start_time(YYYYMMddHHmmZ)'].dt.hour])['duration(ms)'].sum()/1000\n",
    "\n",
    "    # plot time graphs\n",
    "    plot_cols = 3\n",
    "    plot_rows = np.ceil(len(unique_labels)/plot_cols)\n",
    "    \n",
    "    plt.figure(figsize = (15,5))\n",
    "    \n",
    "    # extract home work positions\n",
    "    home_possible = (-1, 0)\n",
    "    work_possible = []\n",
    "    for i, k in enumerate(unique_labels):\n",
    "        plt.subplot(plot_rows, plot_cols, i+1)\n",
    "        \n",
    "        nduration = point_hours[k]/np.sum(point_hours[k])\n",
    "        \n",
    "        if k != -1:\n",
    "            home_prop = nduration.loc[:6].sum()\n",
    "            work_prop = nduration.loc[10:16].sum()\n",
    "            work_possible.append( (k, work_prop ) )\n",
    "            \n",
    "            if home_possible[1] < home_prop:\n",
    "                home_possible = (k, home_prop )\n",
    "\n",
    "        plt.plot( nduration )\n",
    "        plt.title('point: %s, %s' % (k,i+1))\n",
    "    plt.show()\n",
    "    \n",
    "    \n",
    "    \n",
    "    work_possible = pd.DataFrame(work_possible)\n",
    "    work_possible = work_possible[ work_possible[1] >= 0.2 ]\n",
    "    work_possible.sort_values([1], ascending=False)\n",
    "    \n",
    "    if home_possible[0] in work_possible.loc[:,0].values:\n",
    "        home_possible = None\n",
    "        \n",
    "    work_possible_locations = extract_cluster_location_by_label(cluster_labels=work_possible.loc[:,0].values,\n",
    "                                      labels=labels, \n",
    "                                      points=X, \n",
    "                                      core_samples_mask=core_samples_mask )\n",
    "        \n",
    "    print( 'work_possible cluster num: ', work_possible.loc[:,0].values )\n",
    "    print( 'work_possible locations: ', work_possible_locations, scaler.inverse_transform(work_possible_locations) )\n",
    "    \n",
    "    home_possible_locations = extract_cluster_location_by_label(cluster_labels=[(home_possible[0] if home_possible else 'None')],\n",
    "                                      labels=labels, \n",
    "                                      points=X, \n",
    "                                      core_samples_mask=core_samples_mask )\n",
    "    \n",
    "    print('home_possible cluster num: %s' % (home_possible[0] if home_possible else 'None'))\n",
    "    print('home_possible locations: ', home_possible_locations, scaler.inverse_transform( home_possible_locations ) )\n",
    "\n",
    "    for k, col in zip(unique_labels, colors):\n",
    "        if k == -1:        \n",
    "            # Black used for noise.\n",
    "            col = [0, 0, 0, 1]\n",
    "\n",
    "\n",
    "        class_member_mask = (labels == k)\n",
    "\n",
    "        xy = X[class_member_mask & core_samples_mask]\n",
    "\n",
    "        if xy.shape[0]:\n",
    "            plt.annotate('%s' % (k), xy=xy[0], size=50)\n",
    "\n",
    "\n",
    "        plt.plot(xy[:, 0], xy[:, 1], 'o', markerfacecolor=tuple(col),\n",
    "                 markeredgecolor='k', markersize=24)\n",
    "\n",
    "        xy = X[class_member_mask & ~core_samples_mask]\n",
    "        plt.plot(xy[:, 0], xy[:, 1], 'o', markerfacecolor=tuple(col),\n",
    "                 markeredgecolor='k', markersize=6)\n",
    "        \n",
    "        \n",
    "\n",
    "    plt.title('Estimated number of clusters: %d' % n_clusters_)\n",
    "    plt.show()\n",
    "    home_possible = home_possible[0] if home_possible else None\n",
    "    silhouette = metrics.silhouette_score(X, labels)\n",
    "    return silhouette, \\\n",
    "          n_clusters_, \\\n",
    "        (home_possible, scaler.inverse_transform(home_possible_locations)), \\\n",
    "        (work_possible.loc[:,0].values, scaler.inverse_transform( work_possible_locations ) )"
   ]
  },
  {
   "cell_type": "code",
   "execution_count": 25,
   "metadata": {
    "collapsed": true
   },
   "outputs": [],
   "source": [
    "def _filter_gps_noise1(location, person_index):\n",
    "    visited = lookup_table.location_lookup(\n",
    "        location, \n",
    "        person_index=person_index, \n",
    "        visited_loc=True,\n",
    "        noise_distance_err=0.1 \n",
    "    )\n",
    "        \n",
    "    if visited[0]:\n",
    "        location = visited[1][0]\n",
    "    \n",
    "    return location"
   ]
  },
  {
   "cell_type": "code",
   "execution_count": 26,
   "metadata": {
    "collapsed": true
   },
   "outputs": [],
   "source": [
    "class HomeWorkScan:\n",
    "    \n",
    "    def __init__(self, persons):\n",
    "        self.persons = persons\n",
    "    \n",
    "\n",
    "    def _extract_home_work_for_person(self, person, person_index):\n",
    "        \n",
    "        _person = person.copy()\n",
    "        \n",
    "        X = _person[location_field].values\n",
    "        X_f1 = np.fromiter(chain.from_iterable(_filter_gps_noise1(i, person_index) for i in X), float)\n",
    "        X_f1.shape = X.shape\n",
    "\n",
    "        _person.loc[:,location_field] = X_f1\n",
    "        _person = _person[ _person['duration(ms)'] >= _person['duration(ms)'].quantile(0.25) ]\n",
    "        X_f1 = _person[location_field].values\n",
    "        \n",
    "        _, _, home_possible, work_possible = dbscan_analize(_person, eps=0.1)\n",
    "        \n",
    "        print(home_possible, work_possible)\n",
    "        \n",
    "        return {\n",
    "            'home': home_possible,\n",
    "            'work': work_possible\n",
    "        }\n",
    "    \n",
    "    def extract_home_work(self):\n",
    "        \n",
    "        home_work = {}\n",
    "        for i, person in enumerate( self.persons):\n",
    "            print('-- home work person %s ---' % (i))\n",
    "            _home_work = self._extract_home_work_for_person( person=person, person_index=i )\n",
    "            home_work['person' + str(i)] = _home_work\n",
    "            \n",
    "        return home_work"
   ]
  },
  {
   "cell_type": "code",
   "execution_count": 27,
   "metadata": {
    "collapsed": true
   },
   "outputs": [],
   "source": [
    "c = HomeWorkScan(persons=[person1, person2, person3])"
   ]
  },
  {
   "cell_type": "code",
   "execution_count": 28,
   "metadata": {},
   "outputs": [
    {
     "name": "stdout",
     "output_type": "stream",
     "text": [
      "-- home work person 0 ---\n"
     ]
    },
    {
     "data": {
      "image/png": "[encoded data removed]",
      "text/plain": [
       "<Figure size 1080x360 with 5 Axes>"
      ]
     },
     "metadata": {},
     "output_type": "display_data"
    },
    {
     "name": "stdout",
     "output_type": "stream",
     "text": [
      "[0 4]\n",
      "work_possible cluster num:  [0 4]\n",
      "work_possible locations:  [array([-1.5216045 , -1.59772008]), array([0.67750817, 0.67952024])] [[-50.334595 -72.2639  ]\n",
      " [ 51.173332   4.363391]]\n",
      "[3]\n",
      "home_possible cluster num: 3\n",
      "home_possible locations:  [array([-0.98628041, -1.07130012])] [[-25.624793 -54.550295]]\n"
     ]
    },
    {
     "data": {
      "image/png": "[encoded data removed]",
      "text/plain": [
       "<Figure size 432x288 with 1 Axes>"
      ]
     },
     "metadata": {},
     "output_type": "display_data"
    },
    {
     "name": "stdout",
     "output_type": "stream",
     "text": [
      "(3, array([[-25.624793, -54.550295]])) (array([0, 4], dtype=int64), array([[-50.334595, -72.2639  ],\n",
      "       [ 51.173332,   4.363391]]))\n",
      "-- home work person 1 ---\n"
     ]
    },
    {
     "data": {
      "image/png": "[encoded data removed]",
      "text/plain": [
       "<Figure size 1080x360 with 3 Axes>"
      ]
     },
     "metadata": {},
     "output_type": "display_data"
    },
    {
     "name": "stdout",
     "output_type": "stream",
     "text": [
      "[1]\n",
      "work_possible cluster num:  [1]\n",
      "work_possible locations:  [array([0.35214187, 0.22390558])] [[51.21426    4.4076133]]\n",
      "[0]\n",
      "home_possible cluster num: 0\n",
      "home_possible locations:  [array([-1.27384476, -2.41533433])] [[51.055416   3.7146337]]\n"
     ]
    },
    {
     "data": {
      "image/png": "[encoded data removed]",
      "text/plain": [
       "<Figure size 432x288 with 1 Axes>"
      ]
     },
     "metadata": {},
     "output_type": "display_data"
    },
    {
     "name": "stdout",
     "output_type": "stream",
     "text": [
      "(0, array([[51.055416 ,  3.7146337]])) (array([1], dtype=int64), array([[51.21426  ,  4.4076133]]))\n",
      "-- home work person 2 ---\n"
     ]
    },
    {
     "data": {
      "image/png": "[encoded data removed]",
      "text/plain": [
       "<Figure size 1080x360 with 3 Axes>"
      ]
     },
     "metadata": {},
     "output_type": "display_data"
    },
    {
     "name": "stdout",
     "output_type": "stream",
     "text": [
      "[0 1]\n",
      "work_possible cluster num:  [0 1]\n",
      "work_possible locations:  [array([ 1.01326269, -0.88497964]), array([-1.01701034,  1.27243823])] [[51.216297   4.394103 ]\n",
      " [50.95121    4.8899217]]\n",
      "['None']\n",
      "home_possible cluster num: None\n",
      "home_possible locations:  [array([nan, nan])] [[nan nan]]\n"
     ]
    },
    {
     "name": "stderr",
     "output_type": "stream",
     "text": [
      "C:\\Anaconda3\\lib\\site-packages\\ipykernel\\__main__.py:9: FutureWarning: elementwise comparison failed; returning scalar instead, but in the future will perform elementwise comparison\n",
      "C:\\Anaconda3\\lib\\site-packages\\numpy\\core\\fromnumeric.py:2920: RuntimeWarning: Mean of empty slice.\n",
      "  out=out, **kwargs)\n",
      "C:\\Anaconda3\\lib\\site-packages\\numpy\\core\\_methods.py:78: RuntimeWarning: invalid value encountered in true_divide\n",
      "  ret, rcount, out=ret, casting='unsafe', subok=False)\n"
     ]
    },
    {
     "data": {
      "image/png": "[encoded data removed]",
      "text/plain": [
       "<Figure size 432x288 with 1 Axes>"
      ]
     },
     "metadata": {},
     "output_type": "display_data"
    },
    {
     "name": "stdout",
     "output_type": "stream",
     "text": [
      "(None, array([[nan, nan]])) (array([0, 1], dtype=int64), array([[51.216297 ,  4.394103 ],\n",
      "       [50.95121  ,  4.8899217]]))\n"
     ]
    }
   ],
   "source": [
    "home_work_locations = c.extract_home_work()"
   ]
  },
  {
   "cell_type": "code",
   "execution_count": 29,
   "metadata": {
    "collapsed": true
   },
   "outputs": [],
   "source": [
    "def plot_person_places(person, person_key):\n",
    "    plt.scatter(person1[location_field].iloc[:,0], person1[location_field].iloc[:,1])\n",
    "    plt.scatter(home_work_locations[person_key]['home'][1][:,0], home_work_locations[person_key]['home'][1][:,1], c='g')\n",
    "    plt.scatter(home_work_locations[person_key]['work'][1][:,0], home_work_locations[person_key]['work'][1][:,1], c='r')\n",
    "    plt.show()"
   ]
  },
  {
   "cell_type": "code",
   "execution_count": 30,
   "metadata": {},
   "outputs": [
    {
     "data": {
      "text/plain": [
       "{'person0': {'home': (3, array([[-25.624793, -54.550295]])),\n",
       "  'work': (array([0, 4], dtype=int64), array([[-50.334595, -72.2639  ],\n",
       "          [ 51.173332,   4.363391]]))},\n",
       " 'person1': {'home': (0, array([[51.055416 ,  3.7146337]])),\n",
       "  'work': (array([1], dtype=int64), array([[51.21426  ,  4.4076133]]))},\n",
       " 'person2': {'home': (None, array([[nan, nan]])),\n",
       "  'work': (array([0, 1], dtype=int64), array([[51.216297 ,  4.394103 ],\n",
       "          [50.95121  ,  4.8899217]]))}}"
      ]
     },
     "execution_count": 30,
     "metadata": {},
     "output_type": "execute_result"
    }
   ],
   "source": [
    "home_work_locations"
   ]
  },
  {
   "cell_type": "code",
   "execution_count": 31,
   "metadata": {},
   "outputs": [
    {
     "data": {
      "image/png": "[encoded data removed]",
      "text/plain": [
       "<Figure size 432x288 with 1 Axes>"
      ]
     },
     "metadata": {},
     "output_type": "display_data"
    },
    {
     "data": {
      "image/png": "[encoded data removed]",
      "text/plain": [
       "<Figure size 432x288 with 1 Axes>"
      ]
     },
     "metadata": {},
     "output_type": "display_data"
    },
    {
     "data": {
      "image/png": "[encoded data removed]",
      "text/plain": [
       "<Figure size 432x288 with 1 Axes>"
      ]
     },
     "metadata": {},
     "output_type": "display_data"
    }
   ],
   "source": [
    "plot_person_places(person=person1, person_key='person0')\n",
    "plot_person_places(person=person2, person_key='person1')\n",
    "plot_person_places(person=person3, person_key='person2')"
   ]
  },
  {
   "cell_type": "markdown",
   "metadata": {},
   "source": [
    "## Question 2: Social graph\n",
    "- Try to uncover the geo-spatial similarities between the users' data. Do users visit similar places? Are they likely to know each other?\n",
    "- Figure out a way to describe how 'socially active' each user is, by designing some kind of action radius metric. This metric should should take into account how many places a user visits, how far these places are away from each other, and how long the user stays there. The metric should allow us to compare users and to flag the most socially active one."
   ]
  },
  {
   "cell_type": "code",
   "execution_count": 34,
   "metadata": {
    "collapsed": true
   },
   "outputs": [],
   "source": [
    "def series_coef(series):\n",
    "    \n",
    "    mean = series.mean()\n",
    "    std = series.std()\n",
    "\n",
    "    # for stability and predictability of coefficient simply filter values by +|- sigma\n",
    "    # and filter by [0.1, 0.9] quantile\n",
    "    ind_by_sigma = (series >= (mean - std )) & (series <= (mean + std ))\n",
    "#     ind_by_quantile = (series >= series.quantile(0.1)) & (series <= series.quantile(0.9) )\n",
    "    \n",
    "    series = series[ ind_by_sigma ]\n",
    "    \n",
    "    mean = series.mean()\n",
    "    std = series.std()\n",
    "\n",
    "    # apply ABC Pareto strategy for coefficient (mode * 0.8 + 0.2 * (median * 0.8 + mean * 0.2))\n",
    "    series_abc_pareto_X = series.mode()[0] * 0.8 + 0.2 * ( series.median() * 0.8 + mean * 0.2 )\n",
    "    # apply var coefficient for simply norm predictability\n",
    "    series_coef = series_abc_pareto_X / (std/mean)\n",
    "    \n",
    "    return series_abc_pareto_X, series_coef, std/mean"
   ]
  },
  {
   "cell_type": "code",
   "execution_count": 35,
   "metadata": {},
   "outputs": [],
   "source": [
    "import logging\n",
    "from sklearn import preprocessing\n",
    "class SocialRating:\n",
    "    \n",
    "    '''\n",
    "        Provide SocialRating for person and compare it with other\n",
    "        person: \n",
    "            how many places user visit\n",
    "            how far away places from each other \n",
    "            how long user stay there (in places)\n",
    "\n",
    "            compare users and flag most social active one\n",
    "    '''\n",
    "    \n",
    "    def __init__(self, person, verbose=False):\n",
    "        \n",
    "        '''\n",
    "            person: pd.DataFrame\n",
    "        '''\n",
    "        self.person = person\n",
    "        self._rating = None\n",
    "        self.verbose = verbose\n",
    "        \n",
    "    def how_many_places_user_visit( self ):\n",
    "        person = self.person\n",
    "        \n",
    "        places_per_day = person.groupby([person['start_time(YYYYMMddHHmmZ)'].dt.date])['latitude'].count()\n",
    "        places_visit, places_visit_coef, var = series_coef( places_per_day )\n",
    "        \n",
    "        logging.info( (places_visit, places_visit_coef, var) )\n",
    "    \n",
    "        return places_visit, places_visit_coef, var\n",
    "    \n",
    "    def how_far_away_places_from_each_other( self ):\n",
    "        person = self.person\n",
    "        \n",
    "        distance, distance_coef, var = series_coef( person.dist )        \n",
    "        logging.info( (distance, distance_coef, var ) )\n",
    "        \n",
    "        return distance, distance_coef, var\n",
    "    \n",
    "    def how_long_user_stay_in_places( self ):\n",
    "        person = self.person\n",
    "        \n",
    "        distance, distance_coef, var = series_coef( person['duration(ms)'] )        \n",
    "        logging.info( (distance, distance_coef, var ) )\n",
    "        \n",
    "        return distance, distance_coef, var\n",
    "    \n",
    "    \n",
    "    @property\n",
    "    def rating( self ):\n",
    "        \n",
    "        '''\n",
    "            Calculate rating for person\n",
    "            rating = \n",
    "            how_many_places_user_visit \n",
    "            + how_far_away_places_from_each_other \n",
    "            + how_long_user_stay_in_places\n",
    "        '''\n",
    "        \n",
    "        if not self._rating :\n",
    "            \n",
    "            how_many_places_user_visit = self.how_many_places_user_visit()\n",
    "            how_far_away_places_from_each_other = self.how_far_away_places_from_each_other()\n",
    "            how_long_user_stay_in_places = self.how_long_user_stay_in_places()\n",
    "            \n",
    "            # store how_* coefficients as is for future normalization\n",
    "            self._rating = (\n",
    "                how_many_places_user_visit[1], \n",
    "                how_far_away_places_from_each_other[1], \n",
    "                how_long_user_stay_in_places[1] \n",
    "            )\n",
    "            \n",
    "        logging.info( repr(self._rating ) )\n",
    "            \n",
    "        return self._rating\n",
    "    \n",
    "    def _rating_compare(self, other):\n",
    "        \n",
    "        variables_in_rating = len(self.rating ) \n",
    "        rating = pd.DataFrame( [self.rating, other.rating] ) \n",
    "        \n",
    "        rating = rating/rating.sum( axis=0 )\n",
    "        rating = np.round( rating.sum(axis=1)/variables_in_rating, 2 )\n",
    "        \n",
    "        logging.info( rating )\n",
    "        return rating\n",
    "    \n",
    "    def __lt__(self, other):        \n",
    "        ratingAB = self._rating_compare( other )\n",
    "        return ratingAB[0] < ratingAB[1]\n",
    "\n",
    "    def __le__(self, other):\n",
    "        ratingAB = self._rating_compare( other )\n",
    "        return ratingAB[0] <= ratingAB[1]\n",
    "\n",
    "    def __eq__(self, other):\n",
    "        ratingAB = self._rating_compare( other )\n",
    "        return ratingAB[0] == ratingAB[1]\n",
    "\n",
    "    def __ne__(self, other):\n",
    "        return not self.__eq__(other)\n",
    "\n",
    "    def __gt__(self, other):\n",
    "        ratingAB = self._rating_compare( other )\n",
    "        return ratingAB[0] > ratingAB[1]\n",
    "\n",
    "    def __ge__(self, other):\n",
    "        ratingAB = self._rating_compare( other )\n",
    "        return ratingAB[0] >= ratingAB[1]"
   ]
  },
  {
   "cell_type": "code",
   "execution_count": 36,
   "metadata": {
    "collapsed": true
   },
   "outputs": [],
   "source": [
    "logging.basicConfig(\n",
    "    format=\"%(asctime)-15s [%(levelname)s] %(funcName)s: %(message)s\",\n",
    "    level=logging.INFO)"
   ]
  },
  {
   "cell_type": "code",
   "execution_count": 37,
   "metadata": {},
   "outputs": [],
   "source": [
    "sr1 = SocialRating(person=person1)\n",
    "sr2 = SocialRating(person=person2)\n",
    "sr3 = SocialRating(person=person3)"
   ]
  },
  {
   "cell_type": "code",
   "execution_count": 38,
   "metadata": {},
   "outputs": [
    {
     "name": "stderr",
     "output_type": "stream",
     "text": [
      "2018-09-03 21:04:27,568 [INFO] how_many_places_user_visit: (4.217058823529412, 9.453039497189028, 0.446106125419597)\n",
      "2018-09-03 21:04:27,576 [INFO] how_far_away_places_from_each_other: (0.26385781364250743, 0.08462569508734255, 3.1179396916052347)\n",
      "2018-09-03 21:04:27,583 [INFO] how_long_user_stay_in_places: (260887.69853448283, 156723.30465132432, 1.6646388302933117)\n",
      "2018-09-03 21:04:27,584 [INFO] rating: (9.453039497189028, 0.08462569508734255, 156723.30465132432)\n",
      "2018-09-03 21:04:27,586 [INFO] rating: (9.453039497189028, 0.08462569508734255, 156723.30465132432)\n",
      "2018-09-03 21:04:27,599 [INFO] how_many_places_user_visit: (5.321538461538462, 11.746579717417054, 0.4530287615251983)\n",
      "2018-09-03 21:04:27,606 [INFO] how_far_away_places_from_each_other: (0.26385781364250743, 0.08462569508734255, 3.1179396916052347)\n",
      "2018-09-03 21:04:27,612 [INFO] how_long_user_stay_in_places: (190767.74530487807, 111414.45873123848, 1.7122350857985225)\n",
      "2018-09-03 21:04:27,613 [INFO] rating: (11.746579717417054, 0.08462569508734255, 111414.45873123848)\n",
      "2018-09-03 21:04:27,617 [INFO] _rating_compare: 0    0.51\n",
      "1    0.49\n",
      "dtype: float64\n"
     ]
    },
    {
     "data": {
      "text/plain": [
       "True"
      ]
     },
     "execution_count": 38,
     "metadata": {},
     "output_type": "execute_result"
    }
   ],
   "source": [
    "sr1 > sr2"
   ]
  },
  {
   "cell_type": "code",
   "execution_count": 39,
   "metadata": {},
   "outputs": [
    {
     "name": "stderr",
     "output_type": "stream",
     "text": [
      "2018-09-03 21:04:28,225 [INFO] rating: (11.746579717417054, 0.08462569508734255, 111414.45873123848)\n",
      "2018-09-03 21:04:28,226 [INFO] rating: (11.746579717417054, 0.08462569508734255, 111414.45873123848)\n",
      "2018-09-03 21:04:28,234 [INFO] how_many_places_user_visit: (4.391794871794872, 12.46683861582048, 0.3522781522351354)\n",
      "2018-09-03 21:04:28,238 [INFO] how_far_away_places_from_each_other: (0.3458611590555225, 0.06836279897635339, 5.059201264932928)\n",
      "2018-09-03 21:04:28,242 [INFO] how_long_user_stay_in_places: (214317.50181818186, 131090.31293921624, 1.634884355776588)\n",
      "2018-09-03 21:04:28,243 [INFO] rating: (12.46683861582048, 0.06836279897635339, 131090.31293921624)\n",
      "2018-09-03 21:04:28,246 [INFO] _rating_compare: 0    0.5\n",
      "1    0.5\n",
      "dtype: float64\n"
     ]
    },
    {
     "data": {
      "text/plain": [
       "False"
      ]
     },
     "execution_count": 39,
     "metadata": {},
     "output_type": "execute_result"
    }
   ],
   "source": [
    "sr2 > sr3"
   ]
  },
  {
   "cell_type": "code",
   "execution_count": 40,
   "metadata": {},
   "outputs": [
    {
     "name": "stdout",
     "output_type": "stream",
     "text": [
      "Requirement already satisfied: joblib in c:\\anaconda3\\lib\\site-packages (0.12.3)\n"
     ]
    }
   ],
   "source": [
    "!pip install joblib"
   ]
  },
  {
   "cell_type": "code",
   "execution_count": 41,
   "metadata": {},
   "outputs": [],
   "source": [
    "from joblib import Parallel, delayed\n",
    "from multiprocessing import cpu_count\n",
    "\n",
    "class ProduceRating:\n",
    "    \n",
    "    def __init__(self, persons):\n",
    "        \n",
    "        self.persons = persons\n",
    "        self._rating = None\n",
    "        \n",
    "    @property\n",
    "    def rating(self):\n",
    "        \n",
    "        if not self._rating:\n",
    "            def check_paths(person):\n",
    "                return SocialRating(person=person).rating\n",
    "\n",
    "            rating = Parallel(n_jobs=cpu_count()) (delayed(check_paths) (person) for person in self.persons )\n",
    "\n",
    "            variables_in_rating = len(rating)\n",
    "\n",
    "            logging.info( rating )\n",
    "\n",
    "            rating = pd.DataFrame( rating ) \n",
    "\n",
    "            rating = rating/rating.sum( axis=0 )\n",
    "            rating = np.round( rating.sum(axis=1)/variables_in_rating, 2 )\n",
    "        \n",
    "            self._rating = rating\n",
    "        \n",
    "        logging.info( rating )\n",
    "        \n",
    "        return rating"
   ]
  },
  {
   "cell_type": "code",
   "execution_count": 42,
   "metadata": {},
   "outputs": [
    {
     "name": "stderr",
     "output_type": "stream",
     "text": [
      "2018-09-03 21:04:37,687 [INFO] rating: [(9.453039497189028, 0.08462569508734255, 156723.30465132432), (11.746579717417054, 0.08462569508734255, 111414.45873123848), (12.46683861582048, 0.06836279897635339, 131090.31293921624)]\n",
      "2018-09-03 21:04:37,691 [INFO] rating: 0    0.34\n",
      "1    0.33\n",
      "2    0.33\n",
      "dtype: float64\n"
     ]
    }
   ],
   "source": [
    "persons_rating = ProduceRating( persons=[person1, person2, person3]).rating"
   ]
  },
  {
   "cell_type": "code",
   "execution_count": 43,
   "metadata": {},
   "outputs": [
    {
     "name": "stdout",
     "output_type": "stream",
     "text": [
      "0    0.34\n",
      "1    0.33\n",
      "2    0.33\n",
      "dtype: float64\n"
     ]
    }
   ],
   "source": [
    "print( persons_rating )"
   ]
  },
  {
   "cell_type": "code",
   "execution_count": 44,
   "metadata": {},
   "outputs": [
    {
     "data": {
      "image/png": "[encoded data removed]",
      "text/plain": [
       "<Figure size 432x288 with 1 Axes>"
      ]
     },
     "metadata": {},
     "output_type": "display_data"
    }
   ],
   "source": [
    "fig = persons_rating.plot(kind='bar');\n",
    "fig.set_xticklabels(['person1', 'person2', 'person3']);"
   ]
  },
  {
   "cell_type": "code",
   "execution_count": null,
   "metadata": {
    "collapsed": true
   },
   "outputs": [],
   "source": []
  }
 ],
 "metadata": {
  "anaconda-cloud": {},
  "kernelspec": {
   "display_name": "Python 3",
   "language": "python",
   "name": "python3"
  },
  "language_info": {
   "codemirror_mode": {
    "name": "ipython",
    "version": 3
   },
   "file_extension": ".py",
   "mimetype": "text/x-python",
   "name": "python",
   "nbconvert_exporter": "python",
   "pygments_lexer": "ipython3",
   "version": "3.6.5"
  }
 },
 "nbformat": 4,
 "nbformat_minor": 1
}
